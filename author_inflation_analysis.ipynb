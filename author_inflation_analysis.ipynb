{
 "cells": [
  {
   "cell_type": "code",
   "execution_count": null,
   "id": "22dc91a7-3400-4c07-9335-55b24d809e30",
   "metadata": {},
   "outputs": [],
   "source": [
    "import pandas as pd\n",
    "import matplotlib.pyplot as plt\n",
    "import numpy as np\n",
    "import statsmodels.api as sm\n",
    "import statsmodels.formula.api as smf\n",
    "\n",
    "pd.set_option(\"display.max_rows\", 200)\n",
    "pd.set_option(\"display.width\", 140)"
   ]
  },
  {
   "cell_type": "code",
   "execution_count": null,
   "id": "3231291d-d103-419e-b0de-a77263c4f856",
   "metadata": {
    "scrolled": true
   },
   "outputs": [],
   "source": [
    "df = pd.read_csv(\"abstracts_temp_9000.csv\")\n",
    "\n",
    "df.head(3), df.shape, df.dtypes"
   ]
  },
  {
   "cell_type": "code",
   "execution_count": null,
   "id": "adefb6bb-b1e2-42f1-996f-a8693119c44d",
   "metadata": {},
   "outputs": [],
   "source": [
    "print(\"Before:\", df.shape)\n",
    "df = df[~df['year'].isin([2024, 2025])]\n",
    "print(\"After:\", df.shape)"
   ]
  },
  {
   "cell_type": "code",
   "execution_count": null,
   "id": "f0b292ed-b803-4735-9ee8-73a23159117f",
   "metadata": {},
   "outputs": [],
   "source": [
    "print(df['year'].value_counts().sort_index())"
   ]
  },
  {
   "cell_type": "code",
   "execution_count": null,
   "id": "298ba39f-7644-427c-8e9a-91d3c6f8f954",
   "metadata": {},
   "outputs": [],
   "source": [
    "# Basic checks\n",
    "assert {\"id\",\"year\",\"authors_count\",\"source\"}.issubset(df.columns), \"Missing expected columns.\"\n",
    "df = df.drop_duplicates(\"id\").copy()\n",
    "\n",
    "# Keep relevant window (we’ll still run an all-years ‘first look’ exactly like yours)\n",
    "df_1825 = df[(df[\"year\"] >= 2018) & (df[\"year\"] <= 2025)].copy()\n",
    "df_1825.shape"
   ]
  },
  {
   "cell_type": "markdown",
   "id": "fed0064c-f8d6-4dba-9568-0c5cbc3fe724",
   "metadata": {},
   "source": [
    "### Pandemic-free Split"
   ]
  },
  {
   "cell_type": "code",
   "execution_count": null,
   "id": "7e7fba62-dab6-49c8-b749-350252524279",
   "metadata": {},
   "outputs": [],
   "source": [
    "pre_ai = df[df[\"year\"] < 2021]\n",
    "post_ai = df[df[\"year\"] >= 2021]\n",
    "\n",
    "print(\"🧠 AI PARADOX — all years\")\n",
    "print(f\"Pre-2021:  {len(pre_ai):,} papers, {pre_ai['authors_count'].mean():.1f} avg authors\")\n",
    "print(f\"Post-2021: {len(post_ai):,} papers, {post_ai['authors_count'].mean():.1f} avg authors\")"
   ]
  },
  {
   "cell_type": "markdown",
   "id": "a9a24b44-eebf-4a2b-b35a-76d0837f6739",
   "metadata": {},
   "source": [
    "### Pandemic-free Contrast (skip 2020–2021, and use 2018–19 vs 2022–23)"
   ]
  },
  {
   "cell_type": "code",
   "execution_count": null,
   "id": "013f7ead-59e1-4bba-b400-d79bcef6decf",
   "metadata": {},
   "outputs": [],
   "source": [
    "pre = df_1825[df_1825[\"year\"].between(2018, 2019)]\n",
    "post = df_1825[df_1825[\"year\"].between(2022, 2023)]\n",
    "print(\"🧠 AI PARADOX — pandemic-free window\")\n",
    "print(f\"Pre (2018–19):  {len(pre):,} papers, {pre['authors_count'].mean():.1f} avg authors\")\n",
    "print(f\"Post (2022–23): {len(post):,} papers, {post['authors_count'].mean():.1f} avg authors\")"
   ]
  },
  {
   "cell_type": "markdown",
   "id": "f7ee722b-bf61-4f24-b79e-be1373ffbeab",
   "metadata": {},
   "source": [
    "### Field Tagging"
   ]
  },
  {
   "cell_type": "code",
   "execution_count": null,
   "id": "0df10e18-d343-40f7-b7c7-5e0d3ad317f8",
   "metadata": {},
   "outputs": [],
   "source": [
    "def map_field_from_source(s):\n",
    "    if not isinstance(s,str): return \"Other\"\n",
    "    v = s.lower()\n",
    "    # Medical\n",
    "    medical_keys = [\"jama\",\"lancet\",\"nejm\",\"bmj\",\"clinic\",\"clinical\",\"medicine\",\"oncology\",\"cardio\",\"nursing\",\"public health\",\"epidemiol\",\"psychiatry\",\"pediatr\",\"radiol\"]\n",
    "    if any(k in v for k in medical_keys): return \"Medical\"\n",
    "    # STEM (non-med)\n",
    "    stem_keys = [\"physics\",\"chemistry\",\"chemical\",\"biol\",\"materials\",\"engineering\",\"computer\",\"information\",\"neuroscience\",\"math\",\"mathematics\",\"statistics\",\"ai\",\"robotics\",\"electrical\",\"optics\",\"geology\",\"earth\",\"astronomy\",\"environmental science\"]\n",
    "    if any(k in v for k in stem_keys): return \"STEM\"\n",
    "    # Social\n",
    "    social_keys = [\"economics\",\"sociology\",\"psychology\",\"education\",\"political\",\"management\",\"communication\",\"marketing\",\"journalism\",\"public policy\",\"development studies\",\"anthropology\",\"demography\",\"geography\",\"social\",\"policy\"]\n",
    "    if any(k in v for k in social_keys): return \"Social\"\n",
    "    # Humanities\n",
    "    hum_keys = [\"history\",\"philosophy\",\"literature\",\"linguistics\",\"arts\",\"humanities\",\"cultural\",\"theology\",\"religion\",\"poetry\"]\n",
    "    if any(k in v for k in hum_keys): return \"Humanities\"\n",
    "    return \"Other\"\n",
    "\n",
    "df_1825[\"field_group\"] = df_1825[\"source\"].apply(map_field_from_source)\n",
    "df_1825[\"post2021\"] = (df_1825[\"year\"] >= 2022).astype(int)  # post-LLM diffusion ≈ 2022+"
   ]
  },
  {
   "cell_type": "markdown",
   "id": "d5911550-cc61-4aec-bc73-8d5bc677659a",
   "metadata": {},
   "source": [
    "### Despcriptives"
   ]
  },
  {
   "cell_type": "code",
   "execution_count": null,
   "id": "314f35ae-cd7b-4b3d-adb3-7ffda047f2a4",
   "metadata": {},
   "outputs": [],
   "source": [
    "# Overall by year\n",
    "overall = (\n",
    "    df_1825\n",
    "    .groupby(\"year\")[\"authors_count\"]\n",
    "    .agg(n=\"count\", mean=\"mean\", median=\"median\", p90=lambda x: np.percentile(x,90))\n",
    "    .round(2)\n",
    ")\n",
    "display(overall)\n",
    "overall.to_csv(\"tab_overall_year.csv\")\n",
    "\n",
    "# Field × year panel\n",
    "desc = (\n",
    "    df_1825\n",
    "    .groupby([\"field_group\",\"year\"])[\"authors_count\"]\n",
    "    .agg(n=\"count\", mean=\"mean\", median=\"median\", p90=lambda x: np.percentile(x, 90))\n",
    "    .reset_index()\n",
    "    .sort_values([\"field_group\",\"year\"])\n",
    "    .round(2)\n",
    ")\n",
    "display(desc.head(20))\n",
    "desc.to_csv(\"tab_field_year.csv\", index=False)"
   ]
  },
  {
   "cell_type": "code",
   "execution_count": null,
   "id": "15ca669a-89ec-42ce-8fdd-a74161c56712",
   "metadata": {},
   "outputs": [],
   "source": [
    "data = {\n",
    "    \"year\": [2018,2019,2020,2021,2022,2023],\n",
    "    \"mean\": [12.3,11.9,14.1,17.4,20.8,21.6],\n",
    "    \"p90\": [26,24,33,42,49,65]\n",
    "}\n",
    "df_summary = pd.DataFrame(data)\n",
    "\n",
    "plt.figure(figsize=(8,5))\n",
    "plt.plot(df_summary[\"year\"], df_summary[\"mean\"], marker=\"o\", label=\"Mean authors\")\n",
    "plt.plot(df_summary[\"year\"], df_summary[\"p90\"], marker=\"s\", label=\"90th percentile\")\n",
    "plt.xlabel(\"Year\")\n",
    "plt.ylabel(\"Authors per paper\")\n",
    "plt.title(\"Mean and 90th Percentile Author Counts, 2018–2023\")\n",
    "plt.grid(True, linewidth=0.3)\n",
    "plt.legend()\n",
    "plt.tight_layout()\n",
    "plt.show()"
   ]
  },
  {
   "cell_type": "markdown",
   "id": "f54e00c1-b4d5-48f8-a4ba-aa4b3974d5a6",
   "metadata": {},
   "source": [
    "### Pandemic-free within-field deltas (2018–19 vs 2022–23) + bootstrap CIs"
   ]
  },
  {
   "cell_type": "code",
   "execution_count": null,
   "id": "5d49d160-bb05-43e5-8fe0-9616bd481784",
   "metadata": {},
   "outputs": [],
   "source": [
    "def bootstrap_ci_diff(a, b, B=2000, alpha=0.05, seed=42):\n",
    "    rng = np.random.default_rng(seed)\n",
    "    diffs = []\n",
    "    for _ in range(B):\n",
    "        da = rng.choice(a, size=len(a), replace=True).mean()\n",
    "        db = rng.choice(b, size=len(b), replace=True).mean()\n",
    "        diffs.append(db - da)\n",
    "    low = np.percentile(diffs, 100*alpha/2)\n",
    "    high = np.percentile(diffs, 100*(1-alpha/2))\n",
    "    return np.mean(b)-np.mean(a), low, high\n",
    "\n",
    "rows = []\n",
    "for fg, sub in df_1825.groupby(\"field_group\"):\n",
    "    a = sub.loc[sub[\"year\"].between(2018,2019),\"authors_count\"].values\n",
    "    b = sub.loc[sub[\"year\"].between(2022,2023),\"authors_count\"].values\n",
    "    if len(a)>=20 and len(b)>=20:\n",
    "        d, lo, hi = bootstrap_ci_diff(a,b)\n",
    "        rows.append((fg, len(a), len(b), np.mean(a), np.mean(b), d, lo, hi))\n",
    "contrast = pd.DataFrame(rows, columns=[\"field_group\",\"n_pre\",\"n_post\",\"pre_mean\",\"post_mean\",\"delta\",\"ci_low\",\"ci_high\"]).round(2)\n",
    "display(contrast.sort_values(\"delta\"))\n",
    "contrast.to_csv(\"tab_delta_pandemic_free.csv\", index=False)"
   ]
  },
  {
   "cell_type": "markdown",
   "id": "1fcc17d0-0066-4644-b252-2c8005e45e20",
   "metadata": {},
   "source": [
    "### Regression: Structural break (post-2021) with year fixed effects"
   ]
  },
  {
   "cell_type": "code",
   "execution_count": null,
   "id": "de9acb88-91e4-4d38-b3ac-4ab86f616ebc",
   "metadata": {},
   "outputs": [],
   "source": [
    "m_df = df_1825.dropna(subset=[\"authors_count\",\"year\"]).copy()\n",
    "\n",
    "# OLS with year FE and field interactions\n",
    "ols = smf.ols(\"authors_count ~ post2021 * C(field_group) + C(year)\", data=m_df).fit(cov_type=\"HC3\")\n",
    "coefs = ols.params[ols.params.index.str.contains(\"post2021\")].round(3).sort_index()\n",
    "pvals = ols.pvalues[coefs.index].round(4)\n",
    "display(pd.DataFrame({\"coef\": coefs, \"pval\": pvals}))"
   ]
  },
  {
   "cell_type": "markdown",
   "id": "b3e63128-51da-4cfb-ac9b-698a25f67c32",
   "metadata": {},
   "source": [
    "### Regression: Robustness trio (raw, log1p, capped at 50)"
   ]
  },
  {
   "cell_type": "code",
   "execution_count": null,
   "id": "dca03a37-8b1c-4ffb-b8e9-59779726b2f0",
   "metadata": {},
   "outputs": [],
   "source": [
    "def run_ols_spec(y_col, data):\n",
    "    f = f\"{y_col} ~ post2021 * C(field_group) + C(year)\"\n",
    "    res = smf.ols(f, data=data).fit(cov_type=\"HC3\")\n",
    "    keep = res.params.index.str.contains(\"post2021\")\n",
    "    out = pd.DataFrame({\n",
    "        \"term\": res.params.index[keep],\n",
    "        \"coef\": res.params[keep].round(3),\n",
    "        \"pval\": res.pvalues[keep].round(4)\n",
    "    }).sort_values(\"term\")\n",
    "    return out\n",
    "\n",
    "robust_df = m_df.copy()\n",
    "robust_df[\"authors_log1p\"] = np.log1p(robust_df[\"authors_count\"])\n",
    "robust_df[\"authors_cap50\"] = robust_df[\"authors_count\"].clip(upper=50)\n",
    "\n",
    "specA = run_ols_spec(\"authors_count\", robust_df)\n",
    "specB = run_ols_spec(\"authors_log1p\", robust_df)\n",
    "specC = run_ols_spec(\"authors_cap50\", robust_df)\n",
    "\n",
    "print(\"Spec A — raw authors\"); display(specA)\n",
    "print(\"Spec B — log1p\"); display(specB)\n",
    "print(\"Spec C — cap=50\"); display(specC)\n",
    "\n",
    "specA.to_csv(\"tab_ols_specA_raw.csv\", index=False)\n",
    "specB.to_csv(\"tab_ols_specB_log1p.csv\", index=False)\n",
    "specC.to_csv(\"tab_ols_specC_cap50.csv\", index=False)"
   ]
  },
  {
   "cell_type": "markdown",
   "id": "389d8819-bcb5-4083-bb47-11f21ca5b25c",
   "metadata": {},
   "source": [
    "### Minimal visuals (field-wise trend with bootstrapped 95% CI)"
   ]
  },
  {
   "cell_type": "code",
   "execution_count": null,
   "id": "4838ff63-c042-4377-9823-8d8a4f9ca841",
   "metadata": {},
   "outputs": [],
   "source": [
    "def bootstrap_mean_ci(x, B=800, alpha=0.05, seed=42):\n",
    "    rng = np.random.default_rng(seed)\n",
    "    x = np.asarray(x, dtype=float)\n",
    "    boots = [rng.choice(x, size=len(x), replace=True).mean() for _ in range(B)]\n",
    "    low = np.percentile(boots, 100*alpha/2)\n",
    "    high = np.percentile(boots, 100*(1-alpha/2))\n",
    "    return float(np.mean(x)), float(low), float(high)\n",
    "\n",
    "# summary table\n",
    "plot_rows = []\n",
    "for (fg, yr), sub in df_1825.groupby([\"field_group\", \"year\"]):\n",
    "    if len(sub) >= 5:\n",
    "        m, lo, hi = bootstrap_mean_ci(sub[\"authors_count\"].values)\n",
    "        plot_rows.append((fg, int(yr), m, lo, hi, int(len(sub))))\n",
    "plot_df = pd.DataFrame(\n",
    "    plot_rows,\n",
    "    columns=[\"field_group\",\"year\",\"mean\",\"ci_low\",\"ci_high\",\"n\"]\n",
    ").sort_values([\"field_group\",\"year\"])\n",
    "\n",
    "# Single figure with all fields\n",
    "fig, ax = plt.subplots(figsize=(9,5))\n",
    "\n",
    "for fg, sub in plot_df.groupby(\"field_group\"):\n",
    "    sub = sub.sort_values(\"year\")\n",
    "    ax.plot(sub[\"year\"], sub[\"mean\"], marker=\"o\", label=str(fg))\n",
    "    ax.fill_between(sub[\"year\"], sub[\"ci_low\"], sub[\"ci_high\"], alpha=0.15)\n",
    "\n",
    "overall = (\n",
    "    df_1825.groupby(\"year\")[\"authors_count\"]\n",
    "    .apply(lambda x: bootstrap_mean_ci(x.values)[0])\n",
    "    .reset_index(name=\"mean\")\n",
    "    .sort_values(\"year\")\n",
    ")\n",
    "ax.plot(overall[\"year\"], overall[\"mean\"], linestyle=\"--\", label=\"Overall\")\n",
    "\n",
    "ax.axhline(0, color='blue', lw=0.3) \n",
    "\n",
    "ax.set_title(\"Mean Authors per Paper (2018–2023) by Field\")\n",
    "ax.set_xlabel(\"Year\")\n",
    "ax.set_ylabel(\"Mean authors\")\n",
    "ax.grid(True, linewidth=0.3)\n",
    "ax.legend(title=\"Field\", bbox_to_anchor=(1.02, 1), loc=\"upper left\")\n",
    "fig.tight_layout()\n",
    "plt.show()"
   ]
  },
  {
   "cell_type": "markdown",
   "id": "f97c87d6-2958-4d39-95f4-9ca5174c68b8",
   "metadata": {},
   "source": [
    "### Save key tables"
   ]
  },
  {
   "cell_type": "code",
   "execution_count": null,
   "id": "ff82a5b8-b3e4-4434-90bf-d3ed5a9a85d7",
   "metadata": {},
   "outputs": [],
   "source": [
    "overall.to_csv(\"tab_overall_year.csv\")\n",
    "desc.to_csv(\"tab_field_year.csv\", index=False)\n",
    "contrast.to_csv(\"tab_delta_pandemic_free.csv\", index=False)\n",
    "specA.to_csv(\"tab_ols_specA_raw.csv\", index=False)\n",
    "specB.to_csv(\"tab_ols_specB_log1p.csv\", index=False)\n",
    "specC.to_csv(\"tab_ols_specC_cap50.csv\", index=False)"
   ]
  },
  {
   "cell_type": "markdown",
   "id": "a4298b11-4d45-4131-a926-418c79aeec63",
   "metadata": {},
   "source": [
    "### AI Paradox "
   ]
  },
  {
   "cell_type": "code",
   "execution_count": null,
   "id": "0a95b5fb-f45c-467e-aea9-2c9b664e5cdc",
   "metadata": {
    "scrolled": true
   },
   "outputs": [],
   "source": [
    "pre_ai = df[df['year'] < 2021]\n",
    "post_ai = df[df['year'] >= 2021]\n",
    "\n",
    "print(\"AI PARADOX FIRST LOOK:\")\n",
    "print(f\"Pre-2021:  {len(pre_ai):,} papers, {pre_ai['authors_count'].mean():.1f} avg authors\")\n",
    "print(f\"Post-2021: {len(post_ai):,} papers, {post_ai['authors_count'].mean():.1f} avg authors\")"
   ]
  },
  {
   "cell_type": "markdown",
   "id": "fb462f29-138d-47ef-9f18-34d901d79d7a",
   "metadata": {},
   "source": [
    "### Top Sources Comparison"
   ]
  },
  {
   "cell_type": "code",
   "execution_count": null,
   "id": "aa54bc85-76a1-453e-986b-e0d97c3a171a",
   "metadata": {
    "scrolled": true
   },
   "outputs": [],
   "source": [
    "# Are post-2021 papers from different types of sources?\n",
    "post_ai_sources = df[df['year'] >= 2021]['source'].value_counts().head(10)\n",
    "pre_ai_sources = df[df['year'] < 2021]['source'].value_counts().head(10)\n",
    "\n",
    "print(\"TOP SOURCES COMPARISON:\")\n",
    "print(\"Post-2021 (High-author era):\")\n",
    "print(post_ai_sources)\n",
    "print(\"\\nPre-2021 (Baseline era):\")\n",
    "print(pre_ai_sources)\n",
    "\n",
    "# Check author count distribution\n",
    "print(f\"\\n AUTHOR COUNT DISTRIBUTION:\")\n",
    "print(f\"Pre-2021  max authors: {pre_ai['authors_count'].max()}\")\n",
    "print(f\"Post-2021 max authors: {post_ai['authors_count'].max()}\")"
   ]
  },
  {
   "cell_type": "markdown",
   "id": "b31188da-7a60-4b9a-9116-558497872311",
   "metadata": {},
   "source": [
    "### Authorship Inflation Within Top Journals "
   ]
  },
  {
   "cell_type": "code",
   "execution_count": null,
   "id": "235539bd-c0ba-4e49-8171-efad6339fb9c",
   "metadata": {},
   "outputs": [],
   "source": [
    "common_top_sources = ['New England Journal of Medicine', 'Science', 'Nature Communications', 'Nucleic Acids Research']\n",
    "\n",
    "print(\"Authorship Inflation Within Top Journals:\")\n",
    "for journal in common_top_sources:\n",
    "    journal_data = df[df['source'] == journal]\n",
    "    pre = journal_data[journal_data['year'] < 2021]['authors_count'].mean()\n",
    "    post = journal_data[journal_data['year'] >= 2021]['authors_count'].mean()\n",
    "    if not (pd.isna(pre) or pd.isna(post)):\n",
    "        change = ((post - pre) / pre) * 100\n",
    "        print(f\"{journal}: {pre:.1f} → {post:.1f} authors ({change:+.1f}%)\")"
   ]
  },
  {
   "cell_type": "markdown",
   "id": "250d7302-69b3-4086-8321-5790ff492035",
   "metadata": {},
   "source": [
    "### Investigating whether Nature Comm is outlier"
   ]
  },
  {
   "cell_type": "code",
   "execution_count": null,
   "id": "dd375816-c955-4b9b-847c-7305b71f5451",
   "metadata": {},
   "outputs": [],
   "source": [
    "nature_comm = df[df['source'] == 'Nature Communications']\n",
    "print(\"NATURE COMMUNICATIONS DEEP DIVE:\")\n",
    "print(f\"Total papers: {len(nature_comm)}\")\n",
    "print(f\"Year distribution:\")\n",
    "print(nature_comm['year'].value_counts().sort_index())\n",
    "print(f\"Author count range: {nature_comm['authors_count'].min()} - {nature_comm['authors_count'].max()}\")"
   ]
  },
  {
   "cell_type": "markdown",
   "id": "176e27ee-693b-4151-a553-53e16d48d966",
   "metadata": {},
   "source": [
    "### Year-Distribution Across Elite Journals"
   ]
  },
  {
   "cell_type": "code",
   "execution_count": null,
   "id": "a02a1757-5da0-469b-a3eb-cb839a7dbe52",
   "metadata": {},
   "outputs": [],
   "source": [
    "# Compare year distributions across top journals\n",
    "print(\"YEAR DISTRIBUTION ACROSS ELITE JOURNALS:\")\n",
    "top_journals = ['New England Journal of Medicine', 'Science', 'Nature Communications', 'Nucleic Acids Research']\n",
    "\n",
    "for journal in top_journals:\n",
    "    j_data = df[df['source'] == journal]\n",
    "    post_2021_ratio = len(j_data[j_data['year'] >= 2021]) / len(j_data)\n",
    "    print(f\"{journal}: {post_2021_ratio:.1%} post-2021 papers\")\n",
    "\n",
    "# Quick reality check - are we seeing publication lag?\n",
    "print(f\"\\n OVERALL POST-2021 COVERAGE: {len(post_ai)/len(df):.1%}\")"
   ]
  },
  {
   "cell_type": "markdown",
   "id": "b678169a-cac3-4a5f-8d86-8aec07b70168",
   "metadata": {},
   "source": [
    "### Weighted Authorship Analysis "
   ]
  },
  {
   "cell_type": "code",
   "execution_count": null,
   "id": "f7875753-cf02-445f-b8ce-35ac01cffb45",
   "metadata": {},
   "outputs": [],
   "source": [
    "# Weighted analysis to account for temporal distribution\n",
    "print(\"WEIGHTED AUTHORSHIP ANALYSIS:\")\n",
    "\n",
    "# Calculate field-specific trends with awareness of sampling realities\n",
    "for journal in top_journals:\n",
    "    j_data = df[df['source'] == journal]\n",
    "    if len(j_data[j_data['year'] >= 2021]) > 10:  # Minimum sample threshold\n",
    "        pre = j_data[j_data['year'] < 2021]['authors_count'].mean()\n",
    "        post = j_data[j_data['year'] >= 2021]['authors_count'].mean()\n",
    "        change = ((post - pre) / pre) * 100\n",
    "        sample_size = len(j_data[j_data['year'] >= 2021])\n",
    "        print(f\"{journal}: {pre:.1f}→{post:.1f} ({change:+.1f}%) [n={sample_size} post-2021]\")"
   ]
  },
  {
   "cell_type": "markdown",
   "id": "f26c7bf2-c719-4b2c-96ed-67a449cd6335",
   "metadata": {},
   "source": [
    "### Visual - Post-2021 Authorship Inflation by Journal"
   ]
  },
  {
   "cell_type": "code",
   "execution_count": null,
   "id": "939232f1-e8b0-4e0e-b939-059d939dba21",
   "metadata": {},
   "outputs": [],
   "source": [
    "import matplotlib.pyplot as plt\n",
    "\n",
    "# Simple bar chart of key finding\n",
    "journals = ['Nucleic Acids\\nResearch', 'NEJM', 'Science', 'Nature\\nCommunications']\n",
    "changes = [40.2, 20.6, 15.4, -8.5]\n",
    "\n",
    "plt.figure(figsize=(10, 6))\n",
    "bars = plt.bar(journals, changes, color=['red', 'orange', 'blue', 'green'])\n",
    "plt.ylabel('Authorship Change (%)')\n",
    "plt.title('Post-2021 Authorship Inflation by Journal')\n",
    "plt.axhline(y=0, color='black', linestyle='-', alpha=0.3)\n",
    "\n",
    "# Adding value labels on bars\n",
    "for bar, value in zip(bars, changes):\n",
    "    plt.text(bar.get_x() + bar.get_width()/2, bar.get_height() + 1, \n",
    "             f'{value:+.1f}%', ha='center', va='bottom')\n",
    "\n",
    "plt.tight_layout()\n",
    "plt.show()"
   ]
  },
  {
   "cell_type": "markdown",
   "id": "7972be9e-6940-4574-b88f-a87fddf7821b",
   "metadata": {},
   "source": [
    "### Paper Characteristics by Journal"
   ]
  },
  {
   "cell_type": "code",
   "execution_count": null,
   "id": "14c46475-1333-4e11-b25e-9e971aefebf3",
   "metadata": {},
   "outputs": [],
   "source": [
    "print(\"PAPER CHARACTERISTICS BY JOURNAL:\")\n",
    "for journal in top_journals:\n",
    "    j_data = df[df['source'] == journal]\n",
    "    print(f\"\\n{journal}:\")\n",
    "    print(f\"  Avg authors: {j_data['authors_count'].mean():.1f}\")\n",
    "    print(f\"  Max authors: {j_data['authors_count'].max()}\")\n",
    "    print(f\"  Papers with 10+ authors: {(j_data['authors_count'] >= 10).mean():.1%}\")"
   ]
  },
  {
   "cell_type": "markdown",
   "id": "c59c5352-69ec-496e-af39-4f31463f94f3",
   "metadata": {},
   "source": [
    "### The Collaboration Spectrum "
   ]
  },
  {
   "cell_type": "code",
   "execution_count": null,
   "id": "5444730a-d145-4902-b33f-cfe26bdfce85",
   "metadata": {},
   "outputs": [],
   "source": [
    "# The percentage of mega-teams tells the real story\n",
    "print(\"THE COLLABORATION SPECTRUM:\")\n",
    "for journal in top_journals:\n",
    "    j_data = df[df['source'] == journal]\n",
    "    mega_team = (j_data['authors_count'] >= 20).mean() * 100\n",
    "    hyper_team = (j_data['authors_count'] >= 50).mean() * 100\n",
    "    print(f\"{journal}:\")\n",
    "    print(f\"  20+ authors: {mega_team:.1f}%\")\n",
    "    print(f\"  50+ authors: {hyper_team:.1f}%\")"
   ]
  },
  {
   "cell_type": "markdown",
   "id": "7f324c44-67ff-473c-803f-b956df0c5a71",
   "metadata": {},
   "source": [
    "### Four Collaboration Regimes in Elite Science"
   ]
  },
  {
   "cell_type": "code",
   "execution_count": null,
   "id": "5e66f182-bd43-4e74-a8cf-2a2b3183e923",
   "metadata": {},
   "outputs": [],
   "source": [
    "# Collaboration regime plot\n",
    "\n",
    "journals = ['NEJM', 'Science', 'NAR', 'Nature Comm']\n",
    "small_team = [37.5, 67.6, 71.1, 89.4]  # <20 authors\n",
    "mega_team = [62.5, 32.4, 28.9, 10.6]   # 20+ authors\n",
    "hyper_team = [6.5, 8.1, 8.2, 2.6]      # 50+ authors\n",
    "\n",
    "x = np.arange(len(journals))\n",
    "width = 0.25\n",
    "\n",
    "fig, ax = plt.subplots(figsize=(12, 8))\n",
    "rects1 = ax.bar(x - width, small_team, width, label='<20 Authors', color='lightblue')\n",
    "rects2 = ax.bar(x, mega_team, width, label='20+ Authors', color='orange')  \n",
    "rects3 = ax.bar(x + width, hyper_team, width, label='50+ Authors', color='red')\n",
    "\n",
    "ax.set_ylabel('Percentage of Papers', fontsize = 12)\n",
    "ax.set_title('The Four Regimes of Scientific Collaboration', fontsize = 13)\n",
    "ax.set_xticks(x)\n",
    "ax.set_xticklabels(journals, fontsize = 12)\n",
    "ax.legend()\n",
    "ax.grid()\n",
    "\n",
    "plt.tight_layout()\n",
    "plt.show()"
   ]
  }
 ],
 "metadata": {
  "kernelspec": {
   "display_name": "Python 3 (ipykernel)",
   "language": "python",
   "name": "python3"
  },
  "language_info": {
   "codemirror_mode": {
    "name": "ipython",
    "version": 3
   },
   "file_extension": ".py",
   "mimetype": "text/x-python",
   "name": "python",
   "nbconvert_exporter": "python",
   "pygments_lexer": "ipython3",
   "version": "3.12.7"
  }
 },
 "nbformat": 4,
 "nbformat_minor": 5
}
